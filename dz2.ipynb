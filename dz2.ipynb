{
 "cells": [
  {
   "cell_type": "code",
   "execution_count": 93,
   "metadata": {},
   "outputs": [],
   "source": [
    "import subprocess\n",
    "import sys\n",
    "\n",
    "def install(package):\n",
    "    subprocess.check_call([sys.executable,\"-m\",\"pip\",\"install\",package])\n",
    "    \n",
    "install('pysam')"
   ]
  },
  {
   "cell_type": "code",
   "execution_count": 13,
   "metadata": {},
   "outputs": [
    {
     "name": "stdout",
     "output_type": "stream",
     "text": [
      "query_name =  C0HVYACXX120402:7:1207:5722:57044\n",
      "query_sequence =  TTTTCAAACAGTATCTATGCCTGCCAAATGTGAACATATAAAAAAAAACCAGAATGTGCCATTCTGATTTAAACTG\n",
      "flag =  1187\n",
      "reference_id =  20\n",
      "reference_start =  9483248\n",
      "mapping_quality =  27\n",
      "cigar =  [(0, 76)]\n",
      "next_reference_id =  20\n",
      "next_reference_start =  9483381\n",
      "template_length =  209\n",
      "query_qualities =  array('B', [28, 28, 27, 29, 31, 30, 31, 31, 29, 31, 35, 30, 29, 31, 34, 30, 29, 23, 41, 32, 20, 30, 29, 34, 34, 29, 30, 31, 30, 30, 30, 33, 33, 26, 39, 12, 25, 19, 32, 30, 35, 28, 35, 33, 23, 33, 35, 36, 30, 38, 33, 41, 34, 35, 31, 33, 23, 30, 30, 36, 27, 32, 29, 34, 35, 41, 33, 31, 33, 29, 32, 32, 31, 31, 31, 34])\n",
      "query_qualities =  [('XA', 'GL000217.1,-110754,76M,1;'), ('BD', 'NNNNNNNNNNNNNNNNNNNNNNNNNNNNNNNNNNNNNNNNNNNNNNNNNNNNNNNNNNNNNNNNNNNNNNNNNNNN'), ('MD', '76'), ('RG', '1'), ('BI', 'NNNNNNNNNNNNNNNNNNNNNNNNNNNNNNNNNNNNNNNNNNNNNNNNNNNNNNNNNNNNNNNNNNNNNNNNNNNN'), ('NM', 0), ('MQ', 27), ('AS', 76), ('XS', 71)]\n"
     ]
    }
   ],
   "source": [
    "import pysam\n",
    "file = pysam.AlignmentFile(\"merged-tumor.bam\", \"rb\")\n",
    "\n",
    "\n",
    "segments = []\n",
    "\n",
    "num_of_unmapped = 0\n",
    "num_zero_quality = 0\n",
    "sum_of_quality = 0\n",
    "\n",
    "for read in file:\n",
    "    segments.append(read)\n",
    "    sum_of_quality += read.mapping_quality\n",
    "    if read.is_unmapped:\n",
    "        num_of_unmapped+=1\n",
    "    if read.mapping_quality == 0:\n",
    "        num_zero_quality+=1\n",
    "    \n",
    "    \n",
    "    \n",
    "\n",
    "    \n",
    "\n",
    "    \n",
    "\n",
    "print(\"query_name = \",segments[0].query_name)\n",
    "print(\"query_sequence = \", segments[0].query_sequence)\n",
    "print(\"flag = \", segments[0].flag)\n",
    "print(\"reference_id = \", segments[0].reference_id)\n",
    "print(\"reference_start = \", segments[0].reference_start)\n",
    "print(\"mapping_quality = \", segments[0].mapping_quality)\n",
    "print(\"cigar = \", segments[0].cigar)\n",
    "print(\"next_reference_id = \", segments[0].next_reference_id)\n",
    "print(\"next_reference_start = \", segments[0].next_reference_start)\n",
    "print(\"template_length = \", segments[0].template_length)\n",
    "print(\"query_qualities = \", segments[0].query_qualities)\n",
    "print(\"query_qualities = \", segments[0].tags)"
   ]
  },
  {
   "cell_type": "code",
   "execution_count": 15,
   "metadata": {},
   "outputs": [
    {
     "name": "stdout",
     "output_type": "stream",
     "text": [
      "Number of unmapped segments is 17765\n",
      "Total number of segments is 2921629\n",
      "Number of segments with zero mapping quality is 126628\n",
      "Average quality of all reads is 55.91379158681681\n",
      "Average quality of filtered (zero mapping quality) reads is 58.446975510921106\n"
     ]
    }
   ],
   "source": [
    "print(\"Number of unmapped segments is\",num_of_unmapped)\n",
    "print(\"Total number of segments is\",len(segments))\n",
    "print(\"Number of segments with zero mapping quality is\",num_zero_quality)\n",
    "print(\"Average quality of all reads is\",sum_of_quality/len(segments))\n",
    "print(\"Average quality of filtered (zero mapping quality) reads is\",sum_of_quality/(len(segments)-num_zero_quality))"
   ]
  },
  {
   "cell_type": "code",
   "execution_count": 5,
   "metadata": {},
   "outputs": [
    {
     "data": {
      "text/plain": [
       "False"
      ]
     },
     "execution_count": 5,
     "metadata": {},
     "output_type": "execute_result"
    }
   ],
   "source": []
  },
  {
   "cell_type": "code",
   "execution_count": null,
   "metadata": {},
   "outputs": [],
   "source": [
    "\n"
   ]
  },
  {
   "cell_type": "code",
   "execution_count": null,
   "metadata": {},
   "outputs": [],
   "source": []
  }
 ],
 "metadata": {
  "kernelspec": {
   "display_name": "Python 3",
   "language": "python",
   "name": "python3"
  },
  "language_info": {
   "codemirror_mode": {
    "name": "ipython",
    "version": 3
   },
   "file_extension": ".py",
   "mimetype": "text/x-python",
   "name": "python",
   "nbconvert_exporter": "python",
   "pygments_lexer": "ipython3",
   "version": "3.7.4"
  }
 },
 "nbformat": 4,
 "nbformat_minor": 2
}
